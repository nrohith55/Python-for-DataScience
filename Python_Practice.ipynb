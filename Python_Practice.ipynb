{
 "cells": [
  {
   "cell_type": "code",
   "execution_count": 9,
   "metadata": {},
   "outputs": [
    {
     "name": "stdout",
     "output_type": "stream",
     "text": [
      "Alex\n",
      "Alex,you did a great job\n",
      "Steve\n",
      "Steve,you did a great job\n",
      "Mark\n",
      "Mark,you did a great job\n",
      "Thank you evryone that was a great show\n"
     ]
    }
   ],
   "source": [
    "magicians=['Alex','Steve','Mark']\n",
    "for magician in magicians:\n",
    "    print(magician)\n",
    "    print(f\"{magician.title()},you did a great job\")\n",
    "    \n",
    "print(\"Thank you evryone that was a great show\")"
   ]
  },
  {
   "cell_type": "code",
   "execution_count": 12,
   "metadata": {},
   "outputs": [
    {
     "name": "stdout",
     "output_type": "stream",
     "text": [
      "[1, 4, 9, 16, 25, 36, 49, 64, 81, 100, 121]\n"
     ]
    }
   ],
   "source": [
    "square_value=[]\n",
    "for values in range(1,12):\n",
    "    square=values**2\n",
    "    square_value.append(square)\n",
    "print(square_value)"
   ]
  },
  {
   "cell_type": "code",
   "execution_count": 16,
   "metadata": {},
   "outputs": [
    {
     "name": "stdout",
     "output_type": "stream",
     "text": [
      "[1, 4, 9, 16, 25, 36, 49, 64, 81, 100, 121]\n"
     ]
    }
   ],
   "source": [
    "a=range (1,12)\n",
    "output=list([x**2 for x in a ])\n",
    "print(output)"
   ]
  },
  {
   "cell_type": "code",
   "execution_count": 20,
   "metadata": {},
   "outputs": [
    {
     "name": "stdout",
     "output_type": "stream",
     "text": [
      "The first three players names:\n",
      "ABD\n",
      "VK\n",
      "Jammy\n"
     ]
    }
   ],
   "source": [
    "players=('ABD','VK','Jammy','Moris')\n",
    "print(\"The first three players names:\")\n",
    "for player in players[:3]:\n",
    "    print(player)"
   ]
  },
  {
   "cell_type": "code",
   "execution_count": null,
   "metadata": {},
   "outputs": [],
   "source": []
  }
 ],
 "metadata": {
  "kernelspec": {
   "display_name": "Python 3",
   "language": "python",
   "name": "python3"
  },
  "language_info": {
   "codemirror_mode": {
    "name": "ipython",
    "version": 3
   },
   "file_extension": ".py",
   "mimetype": "text/x-python",
   "name": "python",
   "nbconvert_exporter": "python",
   "pygments_lexer": "ipython3",
   "version": "3.7.6"
  }
 },
 "nbformat": 4,
 "nbformat_minor": 4
}
